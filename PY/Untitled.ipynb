{
 "cells": [
  {
   "cell_type": "markdown",
   "id": "efe97134",
   "metadata": {},
   "source": [
    "# Lists"
   ]
  },
  {
   "cell_type": "code",
   "execution_count": 150,
   "id": "c05364fc",
   "metadata": {},
   "outputs": [
    {
     "name": "stdout",
     "output_type": "stream",
     "text": [
      "0\n",
      "10\n",
      "[-1, 0, 1, 2, 3, 4, 5, 6, 7, 8, 9, 10, 11, 13, 12]\n",
      "[-1, 0, 1, 2, 3, 4, 5, 6, 7, 8, 9, 10, 11, 12]\n",
      "[0, 1, 2, 3, 4, 5, 6, 7, 8, 9, 10, 11, 12]\n",
      "[0, 1, 2, 3, 4, 5, 6, 7, 8, 9, 10, 11]\n",
      "[0, 1, 2, 3, 4, 5, 6, 7, 8, 9, 10, 11]\n",
      "[0, 1, 2, 3, 4, 5, 6, 7, 8, 9, 10, 11]\n",
      "[0, 1, 2, 3, 4, 5, 6, 7, 8, 9, 10]\n",
      "[10, 9, 8, 7, 6, 5, 4, 3, 2, 1, 0]\n",
      "[]\n",
      "5 x\n",
      "[5]\n",
      "2 x\n",
      "[5]\n",
      "4 x\n",
      "[2, 4]\n",
      "3 x\n",
      "[2, 4]\n",
      "1 x\n",
      "[2, 3]\n",
      "7 x\n",
      "[1, 3, 7]\n",
      "3\n",
      "2 x\n",
      "[2]\n",
      "9 x\n",
      "[2, 9]\n",
      "13 x\n",
      "[2, 9, 13]\n",
      "14 x\n",
      "[2, 9, 13, 14]\n",
      "4 x\n",
      "[2, 9, 13, 14]\n",
      "8 x\n",
      "[2, 4, 13, 14]\n",
      "7 x\n",
      "[2, 4, 8, 14]\n",
      "6 x\n",
      "[2, 4, 7, 14]\n",
      "10 x\n",
      "[2, 4, 6, 14]\n",
      "4\n",
      "7.0685834705770345\n",
      "[4, 3, 2, 5]\n"
     ]
    }
   ],
   "source": [
    "a =  [0,1,2,3,4,5,6,7,8,9,10] # total elements in a = 11\n",
    "# pos 0,1,2,3,4,5,6,7,8,9,10\n",
    "len(a)\n",
    "# indexing \n",
    "print(a[0]) #a[0th position] = '0' value\n",
    "print(a[10]) #a[10th position] = '10' value\n",
    "a.append(11) # adds element to last\n",
    "a.extend([12]) # add only iterables to extend(doesnt accept floats or integers)\n",
    "#a.insert(-1, {'a':'b'}) # here -1 means end of list, adding dict\n",
    "a.insert(-1,13) \n",
    "a.insert(0,-1)\n",
    "print(a)\n",
    "a.remove(13) # removes 13 value from the list at any position\n",
    "print(a)\n",
    "a.pop(0) # pop's 0th position, every operation costs O(n)\n",
    "print(a)\n",
    "a.pop() # pops the last position, costs O(1) as there is no change in places for other elements\n",
    "print(a)\n",
    "a.count(11) # counts 11 in the list\n",
    "#a.remove({'a': 'b'})\n",
    "print(a)\n",
    "a.sort() # sorts elements\n",
    "print(a)\n",
    "a.index(11)\n",
    "a.remove(11) # removes just on instance\n",
    "print(a)\n",
    "\n",
    "a.reverse() # reverses the array\n",
    "print(a)\n",
    "a.clear()\n",
    "print(a)\n",
    "\n",
    "from bisect import bisect_right\n",
    "\n",
    "\n",
    "def min_decreasing_partitions(arr):\n",
    "    ends = []\n",
    "    for x in arr:\n",
    "        print(x,\"x\")\n",
    "        i = bisect_right(ends, x)\n",
    "           \n",
    "        if i < len(ends):\n",
    "            print(ends)\n",
    "            ends[i] = x\n",
    "        else:\n",
    "            ends.append(x)\n",
    "            print(ends)\n",
    "    return len(ends)\n",
    "\n",
    "ls = [5, 2, 4, 3, 1, 7]\n",
    "ls2 = [2, 9, 13, 14, 4, 8, 7, 6, 10]\n",
    "print(min_decreasing_partitions(ls))\n",
    "print(min_decreasing_partitions(ls2))\n",
    "\n",
    "\n",
    "\n",
    "\n",
    "from heapq import heappush, heappushpop\n",
    "from math import pi\n",
    "from typing import Counter, List\n",
    "\n",
    "def get_max_pizza_slice_size(radii, guests):\n",
    "    # Count up the pizza radii so that each pizza of the same radius get calculated\n",
    "    # together.\n",
    "    pizzas = Counter(radii)\n",
    "\n",
    "    # This keeps track of how many people we can serve with the current area.\n",
    "    # This increases each time we decreases the area of each slice.\n",
    "    total = 0\n",
    "\n",
    "    # This heap is used to keep track of the largest area of each cycle.\n",
    "    # Stores a tuple with 3 elements: (negative) area, division count, and radius of the pizza.\n",
    "    pizza_heap = []\n",
    "\n",
    "    for entry in pizzas:\n",
    "        heappush(pizza_heap, (-(entry ** 2), 1, entry))\n",
    "    while pizza_heap:\n",
    "        area, count, entry = pizza_heap[0]\n",
    "        total += pizzas[entry]\n",
    "        if total >= guests:\n",
    "            return -area * pi\n",
    "        # For each radius, we only need one entry in the heap that stores the current least\n",
    "        # division count. When we pop it out, we put the same thing back in, only the division\n",
    "        # count is increased by one.\n",
    "        count += 1\n",
    "        heappushpop(pizza_heap, (-(entry ** 2) / count, count, entry))\n",
    "    return 0.0\n",
    "\n",
    "r = [1, 1, 1, 2, 2, 3]\n",
    "s = 6\n",
    "print(get_max_pizza_slice_size(r, s))\n",
    "\n",
    "\n",
    "from typing import List\n",
    "\n",
    "def get_largest_subarray(arr, k):\n",
    "    max_index = 0\n",
    "\n",
    "    # This defines a helper function that compares the subarray arr[idx1 : idx1 + k]\n",
    "    # and arr[idx2 : idx2 + k]. Returns -1, 0, or 1 if the first subarray\n",
    "    # is smaller than, equal to, or greater than the second one.\n",
    "    def compare_array(idx1, idx2):\n",
    "        for i in range(k):\n",
    "            if arr[idx1 + i] < arr[idx2 + i]:\n",
    "                return -1\n",
    "            elif arr[idx1 + i] > arr[idx2 + i]:\n",
    "                return 1\n",
    "        return 0\n",
    "\n",
    "    for i in range(1, len(arr) - k + 1):\n",
    "        if compare_array(max_index, i) < 0:\n",
    "            max_index = i\n",
    "    return arr[max_index : max_index + k]\n",
    "\n",
    "A = [1, 4, 3, 2, 5]\n",
    "B = [3, 4, 8, 6, 7]\n",
    "\n",
    "print(get_largest_subarray(A,4))\n",
    "#print(get_largest_subarray(A,4))\n",
    "\n",
    "\n",
    "MAX_STRING_SIZE = 10\n",
    "\n",
    "# \"Lex Count\" is the short hand for the occurrence of the lexicographically smallest\n",
    "# character present.\n",
    "def find_lex_count(test_str: str) -> int:\n",
    "    min_character = None\n",
    "    min_count = 0\n",
    "    for char in test_str:\n",
    "        if min_character is None or char < min_character:\n",
    "            min_character = char\n",
    "            min_count = 1\n",
    "        elif min_character == char:\n",
    "            min_count += 1\n",
    "    return min_count\n",
    "\n",
    "def compare_strings(str1: List[str], str2: List[str]) -> List[int]:\n",
    "    # This keeps track of the number of strings in str1 has a particular lex index.\n",
    "    lex_counts = [0] * (MAX_STRING_SIZE + 1)\n",
    "    for one_str in str1:\n",
    "        lex_counts[find_lex_count(one_str)] += 1\n",
    "\n",
    "    # This keeps track of how many strings in str1 has a lex index less than the key.\n",
    "    strictly_smaller_count = [0]\n",
    "    for entry in lex_counts:\n",
    "        strictly_smaller_count.append(strictly_smaller_count[-1] + entry)\n",
    "    return_count = []\n",
    "    for one_str in str2:\n",
    "        return_count.append(strictly_smaller_count[find_lex_count(one_str)])\n",
    "    return return_count\n",
    "\n",
    "def min_cost_to_win(nums: List[int]) -> int:\n",
    "    last = {}\n",
    "    min_cost = inf\n",
    "    for i, x in enumerate(nums):\n",
    "        if x in last:\n",
    "            min_cost = min(min_cost, i + 1 - last[x])\n",
    "        last[x] = i\n",
    "    return min_cost if min_cost != inf else -1"
   ]
  },
  {
   "cell_type": "markdown",
   "id": "3d6f022f",
   "metadata": {},
   "source": [
    "# Dictionaries"
   ]
  },
  {
   "cell_type": "code",
   "execution_count": 121,
   "id": "6d340ebc",
   "metadata": {},
   "outputs": [
    {
     "name": "stdout",
     "output_type": "stream",
     "text": [
      "['b']\n",
      "{'a': ['b', 'd'], 'c': 'd', 'e': 'f'}\n",
      "{'a': None, 'c': None, 'e': None}\n",
      "{'a': ['b', 'd'], 'c': 'd', 'e': 'f'}\n",
      "{'a': ['b', 'd'], 'c': 'd', 'e': 'f', 'g': 'h'}\n",
      "dict_items([('a', ['b', 'd']), ('c', 'd'), ('e', 'f'), ('g', 'h')])\n",
      "dict_keys(['a', 'c', 'e', 'g'])\n",
      "h\n",
      "{'a': ['b', 'd'], 'c': 'd', 'e': 'f'}\n",
      "('e', 'f')\n",
      "None\n",
      "{}\n"
     ]
    }
   ],
   "source": [
    "x = {'a':['b'], 'c':'d', 'e':'f'}\n",
    "print(x['a'])\n",
    "x['a'] = x.get('a') + ['d']\n",
    "print(x)\n",
    "print(x.fromkeys(x))\n",
    "p = x.copy()\n",
    "print(p)\n",
    "p.update({'g':'h'})\n",
    "print(p)\n",
    "print(p.items()) # prints list of tuples\n",
    "print(p.keys()) # prints list of keys\n",
    "print(p.pop('g')) # pops the key and gives the value\n",
    "print(p)\n",
    "print(p.popitem()) # pops last added pair\n",
    "print(p.clear())\n",
    "print(p)\n"
   ]
  },
  {
   "cell_type": "markdown",
   "id": "10b9bed8",
   "metadata": {},
   "source": [
    "# Sets"
   ]
  },
  {
   "cell_type": "code",
   "execution_count": 123,
   "id": "08d07059",
   "metadata": {},
   "outputs": [
    {
     "name": "stdout",
     "output_type": "stream",
     "text": [
      "{1, 2, 3, 4, 5}\n",
      "{4}\n",
      "{1, 2, 3, 5}\n",
      "{1, 2}\n",
      "{1, 2, 4, 5}\n"
     ]
    }
   ],
   "source": [
    "a = {1,2,4}\n",
    "b = {4,5,3}\n",
    "#print(a.type())\n",
    "print(a | b) # unique values from a and b\n",
    "print(a & b) # common elements in a and b\n",
    "print(a ^ b) # common elements in a and b but non-overlapping\n",
    "print(a-b)\n",
    "a.add(5)\n",
    "print(a)"
   ]
  },
  {
   "cell_type": "markdown",
   "id": "368e3d30",
   "metadata": {},
   "source": [
    "# Strings"
   ]
  },
  {
   "cell_type": "code",
   "execution_count": 137,
   "id": "fc6e8302",
   "metadata": {},
   "outputs": [
    {
     "name": "stdout",
     "output_type": "stream",
     "text": [
      "xYxZ\n",
      "xyxz\n",
      "XYXZ\n",
      "False\n",
      "True\n",
      "True\n",
      "xyx xyz\n",
      "['xyx', 'xyz']\n"
     ]
    }
   ],
   "source": [
    "st = 'XyXz'\n",
    "print(st.swapcase())\n",
    "print(st.lower())\n",
    "print(st.upper())\n",
    "print(st.isnumeric())\n",
    "print(st.isalpha())\n",
    "st2 = \" \"\n",
    "print(st2.isspace())\n",
    "st3 = \"xyx xyz\"\n",
    "print(st3.strip(\" \"))\n",
    "print(st3.split(\" \"))\n"
   ]
  },
  {
   "cell_type": "code",
   "execution_count": 61,
   "id": "f2e33c3b",
   "metadata": {},
   "outputs": [
    {
     "data": {
      "text/plain": [
       "12"
      ]
     },
     "execution_count": 61,
     "metadata": {},
     "output_type": "execute_result"
    }
   ],
   "source": []
  },
  {
   "cell_type": "code",
   "execution_count": 65,
   "id": "13cfb0dd",
   "metadata": {},
   "outputs": [
    {
     "name": "stdout",
     "output_type": "stream",
     "text": [
      "[12, 11, 10, 9, 8, 7, 6, 5, 4, 3, 2, 1, 0, -1]\n"
     ]
    }
   ],
   "source": []
  },
  {
   "cell_type": "code",
   "execution_count": null,
   "id": "6477316f",
   "metadata": {},
   "outputs": [],
   "source": []
  },
  {
   "cell_type": "code",
   "execution_count": null,
   "id": "25982e23",
   "metadata": {},
   "outputs": [],
   "source": []
  }
 ],
 "metadata": {
  "kernelspec": {
   "display_name": "Python 3",
   "language": "python",
   "name": "python3"
  },
  "language_info": {
   "codemirror_mode": {
    "name": "ipython",
    "version": 3
   },
   "file_extension": ".py",
   "mimetype": "text/x-python",
   "name": "python",
   "nbconvert_exporter": "python",
   "pygments_lexer": "ipython3",
   "version": "3.8.8"
  }
 },
 "nbformat": 4,
 "nbformat_minor": 5
}
