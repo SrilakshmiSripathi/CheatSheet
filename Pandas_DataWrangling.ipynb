{
 "cells": [
  {
   "cell_type": "code",
   "execution_count": 3,
   "id": "6b77b380",
   "metadata": {},
   "outputs": [],
   "source": [
    "import pandas as pd"
   ]
  },
  {
   "cell_type": "code",
   "execution_count": 5,
   "id": "cd1e79f9",
   "metadata": {},
   "outputs": [
    {
     "name": "stdout",
     "output_type": "stream",
     "text": [
      "   a  b   c\n",
      "1  4  7  10\n",
      "2  5  8  11\n",
      "3  6  9  12\n"
     ]
    }
   ],
   "source": [
    "df = pd.DataFrame({\"a\":[4,5,6], \"b\":[7,8,9], \"c\":[10,11,12]},index=[1,2,3]) # specify values for each column\n",
    "print(df)"
   ]
  },
  {
   "cell_type": "code",
   "execution_count": 6,
   "id": "576f2d3b",
   "metadata": {},
   "outputs": [
    {
     "name": "stdout",
     "output_type": "stream",
     "text": [
      "   a  b   c\n",
      "1  4  7  10\n",
      "2  5  8  11\n",
      "3  6  9  12\n"
     ]
    }
   ],
   "source": [
    "df_eachRow = pd.DataFrame({\"a\":[4,5,6], \"b\":[7,8,9], \"c\":[10,11,12]},index=[1,2,3],columns = ['a','b','c'])\n",
    "print(df_eachRow)"
   ]
  },
  {
   "cell_type": "code",
   "execution_count": 7,
   "id": "9a5a24f7",
   "metadata": {},
   "outputs": [
    {
     "name": "stdout",
     "output_type": "stream",
     "text": [
      "     a  b   c\n",
      "n v          \n",
      "d 1  4  7  10\n",
      "  2  5  8  11\n",
      "e 2  6  9  12\n"
     ]
    }
   ],
   "source": [
    "# Create DataFrame with a MultiIndex\n",
    "df_MultiIndex = pd.DataFrame({\"a\" : [4 ,5, 6],\"b\" : [7, 8, 9],\"c\" : [10, 11, 12]},index = \n",
    "                  pd.MultiIndex.from_tuples([('d',1),('d',2),('e',2)],names=['n','v']))\n",
    "print(df_MultiIndex)"
   ]
  },
  {
   "cell_type": "code",
   "execution_count": 8,
   "id": "4809ab9e",
   "metadata": {},
   "outputs": [
    {
     "name": "stdout",
     "output_type": "stream",
     "text": [
      "Empty DataFrame\n",
      "Columns: [var, val]\n",
      "Index: []\n"
     ]
    }
   ],
   "source": [
    "df2 = (pd.melt(df).rename(columns={'variable' : 'var','value' : 'val'}).query('val >= 200'))\n",
    "print(df2)"
   ]
  },
  {
   "cell_type": "code",
   "execution_count": 11,
   "id": "c10ece0b",
   "metadata": {},
   "outputs": [
    {
     "name": "stdout",
     "output_type": "stream",
     "text": [
      "  variable  value\n",
      "0        a      4\n",
      "1        a      5\n",
      "2        a      6\n",
      "3        b      7\n",
      "4        b      8\n",
      "5        b      9\n",
      "6        c     10\n",
      "7        c     11\n",
      "8        c     12\n"
     ]
    }
   ],
   "source": [
    "print(pd.melt(df))"
   ]
  },
  {
   "cell_type": "code",
   "execution_count": 13,
   "id": "153f5207",
   "metadata": {},
   "outputs": [
    {
     "name": "stdout",
     "output_type": "stream",
     "text": [
      "Empty DataFrame\n",
      "Columns: []\n",
      "Index: []\n"
     ]
    }
   ],
   "source": [
    "print(df2.pivot(columns='var', values='val'))"
   ]
  },
  {
   "cell_type": "code",
   "execution_count": 17,
   "id": "1d70e9f7",
   "metadata": {},
   "outputs": [],
   "source": [
    "# read csv file and make sure the entire file is not loaded to in-memory use chunk size\n",
    "df_csv = pd.read_csv('country.csv')"
   ]
  },
  {
   "cell_type": "code",
   "execution_count": 18,
   "id": "24888426",
   "metadata": {},
   "outputs": [
    {
     "name": "stdout",
     "output_type": "stream",
     "text": [
      "Country                                         object\n",
      "Action taken on climate change                 float64\n",
      "Better transport and roads                     float64\n",
      "Support for people who can't work              float64\n",
      "Access to clean water and sanitation           float64\n",
      "Better healthcare                              float64\n",
      "A good education                               float64\n",
      "A responsive government we can trust           float64\n",
      "Phone and internet access                      float64\n",
      "Reliable energy at home                        float64\n",
      "Affordable and nutritious food                 float64\n",
      "Protecting forests rivers and oceans           float64\n",
      "Protection against crime and violence          float64\n",
      "Political freedoms                             float64\n",
      "Freedom from discrimination and persecution    float64\n",
      "Equality between men and women                 float64\n",
      "Better job opportunities                       float64\n",
      "dtype: object\n"
     ]
    }
   ],
   "source": [
    "print(df_csv.dtypes)"
   ]
  },
  {
   "cell_type": "code",
   "execution_count": 19,
   "id": "558969ba",
   "metadata": {},
   "outputs": [],
   "source": [
    "# read csv file and make sure the entire file is not loaded to in-memory use chunk size\n",
    "# df = pd.read_csv('country.csv',parse_dates=time_cols, chunksize=1000)"
   ]
  },
  {
   "cell_type": "code",
   "execution_count": null,
   "id": "62ba2e39",
   "metadata": {},
   "outputs": [],
   "source": []
  }
 ],
 "metadata": {
  "kernelspec": {
   "display_name": "Python 3",
   "language": "python",
   "name": "python3"
  },
  "language_info": {
   "codemirror_mode": {
    "name": "ipython",
    "version": 3
   },
   "file_extension": ".py",
   "mimetype": "text/x-python",
   "name": "python",
   "nbconvert_exporter": "python",
   "pygments_lexer": "ipython3",
   "version": "3.8.8"
  }
 },
 "nbformat": 4,
 "nbformat_minor": 5
}
